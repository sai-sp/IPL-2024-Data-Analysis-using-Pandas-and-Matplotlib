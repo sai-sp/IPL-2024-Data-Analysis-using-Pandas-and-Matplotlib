{
 "cells": [
  {
   "cell_type": "markdown",
   "id": "3cad5866-c7c4-43a2-b9e0-fe1ed4cce27f",
   "metadata": {},
   "source": [
    "# IPL 2024 Auction Data"
   ]
  },
  {
   "cell_type": "markdown",
   "id": "aa2e9d2b-11fa-4768-af26-4ad689fe56ea",
   "metadata": {},
   "source": [
    "### Importing Essential Python Libraries"
   ]
  },
  {
   "cell_type": "code",
   "execution_count": 5,
   "id": "ce7e6850-224e-44bc-ba29-7bac8150d116",
   "metadata": {},
   "outputs": [],
   "source": [
    "import numpy as np\n",
    "import pandas as pd\n",
    "import matplotlib.pyplot as plt\n",
    "\n",
    "%matplotlib inline"
   ]
  },
  {
   "cell_type": "markdown",
   "id": "68d102f8-6e7c-4bd6-991c-98de816998ef",
   "metadata": {},
   "source": [
    "### Loading our Data and Data Glance"
   ]
  },
  {
   "cell_type": "code",
   "execution_count": 6,
   "id": "bc666b29-876d-46c3-825b-919480b7f7e1",
   "metadata": {},
   "outputs": [
    {
     "name": "stdout",
     "output_type": "stream",
     "text": [
      "(72, 5)\n"
     ]
    },
    {
     "data": {
      "text/html": [
       "<div>\n",
       "<style scoped>\n",
       "    .dataframe tbody tr th:only-of-type {\n",
       "        vertical-align: middle;\n",
       "    }\n",
       "\n",
       "    .dataframe tbody tr th {\n",
       "        vertical-align: top;\n",
       "    }\n",
       "\n",
       "    .dataframe thead th {\n",
       "        text-align: right;\n",
       "    }\n",
       "</style>\n",
       "<table border=\"1\" class=\"dataframe\">\n",
       "  <thead>\n",
       "    <tr style=\"text-align: right;\">\n",
       "      <th></th>\n",
       "      <th>PLAYERS</th>\n",
       "      <th>NATIONALITY</th>\n",
       "      <th>TYPE</th>\n",
       "      <th>PRICE PAID</th>\n",
       "      <th>TEAM</th>\n",
       "    </tr>\n",
       "  </thead>\n",
       "  <tbody>\n",
       "    <tr>\n",
       "      <th>0</th>\n",
       "      <td>Avanish Rao Aravelly</td>\n",
       "      <td>Indian</td>\n",
       "      <td>Wicket-Keeper</td>\n",
       "      <td>2000000</td>\n",
       "      <td>CSK</td>\n",
       "    </tr>\n",
       "    <tr>\n",
       "      <th>1</th>\n",
       "      <td>Mustafizur Rahman</td>\n",
       "      <td>Overseas</td>\n",
       "      <td>Bowler</td>\n",
       "      <td>20000000</td>\n",
       "      <td>CSK</td>\n",
       "    </tr>\n",
       "    <tr>\n",
       "      <th>2</th>\n",
       "      <td>Daryl Mitchell</td>\n",
       "      <td>Overseas</td>\n",
       "      <td>All-Rounder</td>\n",
       "      <td>140000000</td>\n",
       "      <td>CSK</td>\n",
       "    </tr>\n",
       "    <tr>\n",
       "      <th>3</th>\n",
       "      <td>Sameer Rizvi</td>\n",
       "      <td>Indian</td>\n",
       "      <td>Batter</td>\n",
       "      <td>84000000</td>\n",
       "      <td>CSK</td>\n",
       "    </tr>\n",
       "    <tr>\n",
       "      <th>4</th>\n",
       "      <td>Rachin Ravindra</td>\n",
       "      <td>Overseas</td>\n",
       "      <td>All-Rounder</td>\n",
       "      <td>18000000</td>\n",
       "      <td>CSK</td>\n",
       "    </tr>\n",
       "  </tbody>\n",
       "</table>\n",
       "</div>"
      ],
      "text/plain": [
       "                PLAYERS NATIONALITY           TYPE  PRICE PAID TEAM\n",
       "0  Avanish Rao Aravelly      Indian  Wicket-Keeper     2000000  CSK\n",
       "1     Mustafizur Rahman    Overseas         Bowler    20000000  CSK\n",
       "2        Daryl Mitchell    Overseas    All-Rounder   140000000  CSK\n",
       "3          Sameer Rizvi      Indian         Batter    84000000  CSK\n",
       "4       Rachin Ravindra    Overseas    All-Rounder    18000000  CSK"
      ]
     },
     "execution_count": 6,
     "metadata": {},
     "output_type": "execute_result"
    }
   ],
   "source": [
    "df=pd.read_csv('Datasets/IPL_PLAYERS.csv')\n",
    "print(df.shape)\n",
    "df.head()"
   ]
  },
  {
   "cell_type": "code",
   "execution_count": 7,
   "id": "74f41ee5-d6a5-4ae9-b6aa-bcb7ec540c9f",
   "metadata": {},
   "outputs": [
    {
     "data": {
      "text/plain": [
       "Index(['PLAYERS', 'NATIONALITY', 'TYPE', 'PRICE PAID', 'TEAM'], dtype='object')"
      ]
     },
     "execution_count": 7,
     "metadata": {},
     "output_type": "execute_result"
    }
   ],
   "source": [
    "df.columns"
   ]
  },
  {
   "cell_type": "markdown",
   "id": "9ad3d7ae-a523-416d-9dfe-35b6591c7e01",
   "metadata": {},
   "source": [
    "### Setting up Specific Column as Index"
   ]
  },
  {
   "cell_type": "code",
   "execution_count": 8,
   "id": "7c7047ff-a6eb-4b28-a4e2-42fa39fae8be",
   "metadata": {},
   "outputs": [],
   "source": [
    "df.set_index('TEAM', inplace=True)"
   ]
  },
  {
   "cell_type": "code",
   "execution_count": 9,
   "id": "980008ab-a47c-4763-9f0e-2422d368819e",
   "metadata": {},
   "outputs": [
    {
     "data": {
      "text/html": [
       "<div>\n",
       "<style scoped>\n",
       "    .dataframe tbody tr th:only-of-type {\n",
       "        vertical-align: middle;\n",
       "    }\n",
       "\n",
       "    .dataframe tbody tr th {\n",
       "        vertical-align: top;\n",
       "    }\n",
       "\n",
       "    .dataframe thead th {\n",
       "        text-align: right;\n",
       "    }\n",
       "</style>\n",
       "<table border=\"1\" class=\"dataframe\">\n",
       "  <thead>\n",
       "    <tr style=\"text-align: right;\">\n",
       "      <th></th>\n",
       "      <th>PLAYERS</th>\n",
       "      <th>NATIONALITY</th>\n",
       "      <th>TYPE</th>\n",
       "      <th>PRICE PAID</th>\n",
       "    </tr>\n",
       "    <tr>\n",
       "      <th>TEAM</th>\n",
       "      <th></th>\n",
       "      <th></th>\n",
       "      <th></th>\n",
       "      <th></th>\n",
       "    </tr>\n",
       "  </thead>\n",
       "  <tbody>\n",
       "    <tr>\n",
       "      <th>CSK</th>\n",
       "      <td>Avanish Rao Aravelly</td>\n",
       "      <td>Indian</td>\n",
       "      <td>Wicket-Keeper</td>\n",
       "      <td>2000000</td>\n",
       "    </tr>\n",
       "    <tr>\n",
       "      <th>CSK</th>\n",
       "      <td>Mustafizur Rahman</td>\n",
       "      <td>Overseas</td>\n",
       "      <td>Bowler</td>\n",
       "      <td>20000000</td>\n",
       "    </tr>\n",
       "    <tr>\n",
       "      <th>CSK</th>\n",
       "      <td>Daryl Mitchell</td>\n",
       "      <td>Overseas</td>\n",
       "      <td>All-Rounder</td>\n",
       "      <td>140000000</td>\n",
       "    </tr>\n",
       "    <tr>\n",
       "      <th>CSK</th>\n",
       "      <td>Sameer Rizvi</td>\n",
       "      <td>Indian</td>\n",
       "      <td>Batter</td>\n",
       "      <td>84000000</td>\n",
       "    </tr>\n",
       "    <tr>\n",
       "      <th>CSK</th>\n",
       "      <td>Rachin Ravindra</td>\n",
       "      <td>Overseas</td>\n",
       "      <td>All-Rounder</td>\n",
       "      <td>18000000</td>\n",
       "    </tr>\n",
       "  </tbody>\n",
       "</table>\n",
       "</div>"
      ],
      "text/plain": [
       "                   PLAYERS NATIONALITY           TYPE  PRICE PAID\n",
       "TEAM                                                             \n",
       "CSK   Avanish Rao Aravelly      Indian  Wicket-Keeper     2000000\n",
       "CSK      Mustafizur Rahman    Overseas         Bowler    20000000\n",
       "CSK         Daryl Mitchell    Overseas    All-Rounder   140000000\n",
       "CSK           Sameer Rizvi      Indian         Batter    84000000\n",
       "CSK        Rachin Ravindra    Overseas    All-Rounder    18000000"
      ]
     },
     "execution_count": 9,
     "metadata": {},
     "output_type": "execute_result"
    }
   ],
   "source": [
    "df.head()"
   ]
  },
  {
   "cell_type": "code",
   "execution_count": 10,
   "id": "82cf6897-1ded-4efd-8175-575a15ec972d",
   "metadata": {},
   "outputs": [
    {
     "name": "stdout",
     "output_type": "stream",
     "text": [
      "<class 'pandas.core.frame.DataFrame'>\n",
      "Index: 72 entries, CSK to SH\n",
      "Data columns (total 4 columns):\n",
      " #   Column       Non-Null Count  Dtype \n",
      "---  ------       --------------  ----- \n",
      " 0   PLAYERS      72 non-null     object\n",
      " 1   NATIONALITY  72 non-null     object\n",
      " 2   TYPE         72 non-null     object\n",
      " 3   PRICE PAID   72 non-null     int64 \n",
      "dtypes: int64(1), object(3)\n",
      "memory usage: 2.8+ KB\n"
     ]
    }
   ],
   "source": [
    "df.info()"
   ]
  },
  {
   "cell_type": "markdown",
   "id": "12c4b478-3c58-46fb-a8be-73fa27efc995",
   "metadata": {},
   "source": [
    "### Numerical analysis and visualization"
   ]
  },
  {
   "cell_type": "markdown",
   "id": "552714aa-cb21-46a7-a041-c9ca7d695450",
   "metadata": {},
   "source": [
    "**Price Plotting comparison between Price Paid and Team**"
   ]
  },
  {
   "cell_type": "code",
   "execution_count": 11,
   "id": "e2a6ca9a-f43c-4d9f-a668-4390c6c7e0f0",
   "metadata": {},
   "outputs": [
    {
     "data": {
      "text/plain": [
       "<Axes: xlabel='TEAM'>"
      ]
     },
     "execution_count": 11,
     "metadata": {},
     "output_type": "execute_result"
    },
    {
     "data": {
      "image/png": "[encoded data removed]",
      "text/plain": [
       "<Figure size 1200x600 with 1 Axes>"
      ]
     },
     "metadata": {},
     "output_type": "display_data"
    }
   ],
   "source": [
    "df.plot(y='PRICE PAID', figsize=(12,6))"
   ]
  },
  {
   "cell_type": "markdown",
   "id": "8a9ef90b-4511-49c9-8772-1fd4475a026a",
   "metadata": {},
   "source": [
    "**Value Count for Type of Players**"
   ]
  },
  {
   "cell_type": "code",
   "execution_count": 12,
   "id": "0a819c41-6408-4801-b948-046518cf8884",
   "metadata": {},
   "outputs": [
    {
     "data": {
      "text/plain": [
       "<Axes: ylabel='count'>"
      ]
     },
     "execution_count": 12,
     "metadata": {},
     "output_type": "execute_result"
    },
    {
     "data": {
      "image/png": "[encoded data removed]",
      "text/plain": [
       "<Figure size 600x600 with 1 Axes>"
      ]
     },
     "metadata": {},
     "output_type": "display_data"
    }
   ],
   "source": [
    "df['TYPE'].value_counts().plot(kind='pie', figsize=(6,6))"
   ]
  },
  {
   "cell_type": "markdown",
   "id": "dd164da5-8304-4b11-8037-2c1d22fbf44d",
   "metadata": {},
   "source": [
    "**Count of Nationality of Players** "
   ]
  },
  {
   "cell_type": "code",
   "execution_count": 13,
   "id": "ca914df0-8bc7-45bd-b4a8-89e30ed505ba",
   "metadata": {},
   "outputs": [
    {
     "data": {
      "text/plain": [
       "NATIONALITY\n",
       "Indian      42\n",
       "Overseas    30\n",
       "Name: count, dtype: int64"
      ]
     },
     "execution_count": 13,
     "metadata": {},
     "output_type": "execute_result"
    }
   ],
   "source": [
    "ax = df['NATIONALITY'].value_counts()\n",
    "ax"
   ]
  },
  {
   "cell_type": "code",
   "execution_count": 14,
   "id": "d472661a-9f68-48e6-a107-ea38551f334d",
   "metadata": {},
   "outputs": [
    {
     "data": {
      "text/plain": [
       "Text(0, 0.5, 'NO OF NATIONALITY PLAYERS COUNT')"
      ]
     },
     "execution_count": 14,
     "metadata": {},
     "output_type": "execute_result"
    },
    {
     "data": {
      "image/png": "[encoded data removed]",
      "text/plain": [
       "<Figure size 1200x600 with 1 Axes>"
      ]
     },
     "metadata": {},
     "output_type": "display_data"
    }
   ],
   "source": [
    "ax = df['NATIONALITY'].value_counts().plot(kind='bar', figsize=(12,6))\n",
    "ax.set_ylabel('NO OF NATIONALITY PLAYERS COUNT')"
   ]
  },
  {
   "cell_type": "code",
   "execution_count": 15,
   "id": "8e1421c6-02e0-4eef-842e-e9f19af30cf6",
   "metadata": {},
   "outputs": [
    {
     "data": {
      "text/plain": [
       "<Axes: xlabel='TYPE', ylabel='PRICE PAID'>"
      ]
     },
     "execution_count": 15,
     "metadata": {},
     "output_type": "execute_result"
    },
    {
     "data": {
      "image/png": "[encoded data removed]",
      "text/plain": [
       "<Figure size 600x600 with 1 Axes>"
      ]
     },
     "metadata": {},
     "output_type": "display_data"
    }
   ],
   "source": [
    "df.plot(kind='scatter', x='TYPE', y='PRICE PAID', figsize=(6,6))"
   ]
  },
  {
   "cell_type": "markdown",
   "id": "5d0cbbbf-c9dc-46ef-9084-d99cdf37c030",
   "metadata": {},
   "source": [
    "**Costliest Price Paid for the Players**"
   ]
  },
  {
   "cell_type": "code",
   "execution_count": 16,
   "id": "f331c39c-cf5b-403b-9403-2457de1216f8",
   "metadata": {},
   "outputs": [
    {
     "data": {
      "text/plain": [
       "TEAM\n",
       "CSK    True\n",
       "CSK    True\n",
       "GT     True\n",
       "KKR    True\n",
       "LSG    True\n",
       "LSG    True\n",
       "RCB    True\n",
       "SH     True\n",
       "Name: PRICE PAID, dtype: bool"
      ]
     },
     "execution_count": 16,
     "metadata": {},
     "output_type": "execute_result"
    }
   ],
   "source": [
    "mask_costliest_players = (df['PRICE PAID'] > 15000000) & (df['PRICE PAID'] < 25000000)\n",
    "costliest_players = mask_costliest_players\n",
    "costliest_players[costliest_players]"
   ]
  },
  {
   "cell_type": "code",
   "execution_count": 17,
   "id": "df133235-561f-4f1b-8cbc-385f7b9cfae7",
   "metadata": {},
   "outputs": [
    {
     "data": {
      "text/html": [
       "<div>\n",
       "<style scoped>\n",
       "    .dataframe tbody tr th:only-of-type {\n",
       "        vertical-align: middle;\n",
       "    }\n",
       "\n",
       "    .dataframe tbody tr th {\n",
       "        vertical-align: top;\n",
       "    }\n",
       "\n",
       "    .dataframe thead th {\n",
       "        text-align: right;\n",
       "    }\n",
       "</style>\n",
       "<table border=\"1\" class=\"dataframe\">\n",
       "  <thead>\n",
       "    <tr style=\"text-align: right;\">\n",
       "      <th></th>\n",
       "      <th>PLAYERS</th>\n",
       "      <th>NATIONALITY</th>\n",
       "      <th>TYPE</th>\n",
       "      <th>PRICE PAID</th>\n",
       "    </tr>\n",
       "    <tr>\n",
       "      <th>TEAM</th>\n",
       "      <th></th>\n",
       "      <th></th>\n",
       "      <th></th>\n",
       "      <th></th>\n",
       "    </tr>\n",
       "  </thead>\n",
       "  <tbody>\n",
       "    <tr>\n",
       "      <th>CSK</th>\n",
       "      <td>Mustafizur Rahman</td>\n",
       "      <td>Overseas</td>\n",
       "      <td>Bowler</td>\n",
       "      <td>20000000</td>\n",
       "    </tr>\n",
       "    <tr>\n",
       "      <th>CSK</th>\n",
       "      <td>Rachin Ravindra</td>\n",
       "      <td>Overseas</td>\n",
       "      <td>All-Rounder</td>\n",
       "      <td>18000000</td>\n",
       "    </tr>\n",
       "    <tr>\n",
       "      <th>GT</th>\n",
       "      <td>Sushant Mishra</td>\n",
       "      <td>Indian</td>\n",
       "      <td>Bowler</td>\n",
       "      <td>22000000</td>\n",
       "    </tr>\n",
       "    <tr>\n",
       "      <th>KKR</th>\n",
       "      <td>Mujeeb Rahman</td>\n",
       "      <td>Overseas</td>\n",
       "      <td>Bowler</td>\n",
       "      <td>20000000</td>\n",
       "    </tr>\n",
       "    <tr>\n",
       "      <th>LSG</th>\n",
       "      <td>David Willey</td>\n",
       "      <td>Overseas</td>\n",
       "      <td>All-Rounder</td>\n",
       "      <td>20000000</td>\n",
       "    </tr>\n",
       "    <tr>\n",
       "      <th>LSG</th>\n",
       "      <td>M. Siddharth</td>\n",
       "      <td>Indian</td>\n",
       "      <td>Bowler</td>\n",
       "      <td>24000000</td>\n",
       "    </tr>\n",
       "    <tr>\n",
       "      <th>RCB</th>\n",
       "      <td>Lockie Ferguson</td>\n",
       "      <td>Overseas</td>\n",
       "      <td>Bowler</td>\n",
       "      <td>20000000</td>\n",
       "    </tr>\n",
       "    <tr>\n",
       "      <th>SH</th>\n",
       "      <td>Jaydev Unadkat</td>\n",
       "      <td>Indian</td>\n",
       "      <td>Bowler</td>\n",
       "      <td>16000000</td>\n",
       "    </tr>\n",
       "  </tbody>\n",
       "</table>\n",
       "</div>"
      ],
      "text/plain": [
       "                PLAYERS NATIONALITY         TYPE  PRICE PAID\n",
       "TEAM                                                        \n",
       "CSK   Mustafizur Rahman    Overseas       Bowler    20000000\n",
       "CSK     Rachin Ravindra    Overseas  All-Rounder    18000000\n",
       "GT       Sushant Mishra      Indian       Bowler    22000000\n",
       "KKR       Mujeeb Rahman    Overseas       Bowler    20000000\n",
       "LSG        David Willey    Overseas  All-Rounder    20000000\n",
       "LSG        M. Siddharth      Indian       Bowler    24000000\n",
       "RCB     Lockie Ferguson    Overseas       Bowler    20000000\n",
       "SH       Jaydev Unadkat      Indian       Bowler    16000000"
      ]
     },
     "execution_count": 17,
     "metadata": {},
     "output_type": "execute_result"
    }
   ],
   "source": [
    "df[(df['PRICE PAID'] > 15000000) & (df['PRICE PAID'] < 25000000)]"
   ]
  },
  {
   "cell_type": "markdown",
   "id": "69a3663f-0e6a-409b-a9b3-b4ef08f06030",
   "metadata": {},
   "source": [
    "# Loading Top Buys for this year Data"
   ]
  },
  {
   "cell_type": "code",
   "execution_count": 20,
   "id": "064d75e9-c629-43d8-8e7d-8dcc31e2b5be",
   "metadata": {},
   "outputs": [
    {
     "data": {
      "text/html": [
       "<div>\n",
       "<style scoped>\n",
       "    .dataframe tbody tr th:only-of-type {\n",
       "        vertical-align: middle;\n",
       "    }\n",
       "\n",
       "    .dataframe tbody tr th {\n",
       "        vertical-align: top;\n",
       "    }\n",
       "\n",
       "    .dataframe thead th {\n",
       "        text-align: right;\n",
       "    }\n",
       "</style>\n",
       "<table border=\"1\" class=\"dataframe\">\n",
       "  <thead>\n",
       "    <tr style=\"text-align: right;\">\n",
       "      <th></th>\n",
       "      <th>TEAM</th>\n",
       "      <th>NATIONALITY</th>\n",
       "      <th>TYPE</th>\n",
       "      <th>PRICE PAID</th>\n",
       "    </tr>\n",
       "  </thead>\n",
       "  <tbody>\n",
       "    <tr>\n",
       "      <th>0</th>\n",
       "      <td>Kolkata Knight Riders</td>\n",
       "      <td>Mitchell Starc</td>\n",
       "      <td>Bowler</td>\n",
       "      <td>24,75,00,000</td>\n",
       "    </tr>\n",
       "    <tr>\n",
       "      <th>1</th>\n",
       "      <td>Sunrisers Hyderabad</td>\n",
       "      <td>Pat Cummins</td>\n",
       "      <td>All-Rounder</td>\n",
       "      <td>20,50,00,000</td>\n",
       "    </tr>\n",
       "    <tr>\n",
       "      <th>2</th>\n",
       "      <td>Chennai Super Kings</td>\n",
       "      <td>Daryl Mitchell</td>\n",
       "      <td>All-Rounder</td>\n",
       "      <td>14,00,00,000</td>\n",
       "    </tr>\n",
       "    <tr>\n",
       "      <th>3</th>\n",
       "      <td>Punjab Kings</td>\n",
       "      <td>Harshal Patel</td>\n",
       "      <td>All-Rounder</td>\n",
       "      <td>11,75,00,000</td>\n",
       "    </tr>\n",
       "    <tr>\n",
       "      <th>4</th>\n",
       "      <td>Royal Challengers Bangalore</td>\n",
       "      <td>Alzarri Joseph</td>\n",
       "      <td>Bowler</td>\n",
       "      <td>11,50,00,000</td>\n",
       "    </tr>\n",
       "  </tbody>\n",
       "</table>\n",
       "</div>"
      ],
      "text/plain": [
       "                          TEAM     NATIONALITY         TYPE     PRICE PAID\n",
       "0        Kolkata Knight Riders  Mitchell Starc       Bowler   24,75,00,000\n",
       "1          Sunrisers Hyderabad     Pat Cummins  All-Rounder   20,50,00,000\n",
       "2          Chennai Super Kings  Daryl Mitchell  All-Rounder   14,00,00,000\n",
       "3                 Punjab Kings   Harshal Patel  All-Rounder   11,75,00,000\n",
       "4  Royal Challengers Bangalore  Alzarri Joseph       Bowler   11,50,00,000"
      ]
     },
     "execution_count": 20,
     "metadata": {},
     "output_type": "execute_result"
    }
   ],
   "source": [
    "top_buys_df = pd.read_csv('Datasets/TOP_BUYS.csv', thousands= ' ')\n",
    "top_buys_df.head()"
   ]
  },
  {
   "cell_type": "markdown",
   "id": "6adaca70-e681-4824-b78e-29f0267d5453",
   "metadata": {},
   "source": [
    "### Manipulating the loaded Data"
   ]
  },
  {
   "cell_type": "code",
   "execution_count": 21,
   "id": "93d351c4-d575-4fa2-9f5f-dd2050975a31",
   "metadata": {},
   "outputs": [
    {
     "name": "stdout",
     "output_type": "stream",
     "text": [
      "Sum of Price Paid by all the teams:  2304500000\n"
     ]
    }
   ],
   "source": [
    "Price_Paid = df['PRICE PAID']\n",
    "print(\"Sum of Price Paid by all the teams: \", Price_Paid.sum())"
   ]
  },
  {
   "cell_type": "code",
   "execution_count": 22,
   "id": "17955315-1c89-419e-9646-84d7f4bd7d50",
   "metadata": {},
   "outputs": [
    {
     "data": {
      "text/html": [
       "<div>\n",
       "<style scoped>\n",
       "    .dataframe tbody tr th:only-of-type {\n",
       "        vertical-align: middle;\n",
       "    }\n",
       "\n",
       "    .dataframe tbody tr th {\n",
       "        vertical-align: top;\n",
       "    }\n",
       "\n",
       "    .dataframe thead th {\n",
       "        text-align: right;\n",
       "    }\n",
       "</style>\n",
       "<table border=\"1\" class=\"dataframe\">\n",
       "  <thead>\n",
       "    <tr style=\"text-align: right;\">\n",
       "      <th></th>\n",
       "      <th>TEAM</th>\n",
       "      <th>NATIONALITY</th>\n",
       "      <th>TYPE</th>\n",
       "      <th>PRICE PAID</th>\n",
       "    </tr>\n",
       "  </thead>\n",
       "  <tbody>\n",
       "    <tr>\n",
       "      <th>count</th>\n",
       "      <td>10</td>\n",
       "      <td>10</td>\n",
       "      <td>10</td>\n",
       "      <td>10</td>\n",
       "    </tr>\n",
       "    <tr>\n",
       "      <th>unique</th>\n",
       "      <td>7</td>\n",
       "      <td>10</td>\n",
       "      <td>3</td>\n",
       "      <td>9</td>\n",
       "    </tr>\n",
       "    <tr>\n",
       "      <th>top</th>\n",
       "      <td>Chennai Super Kings</td>\n",
       "      <td>Mitchell Starc</td>\n",
       "      <td>All-Rounder</td>\n",
       "      <td>7,40,00,000</td>\n",
       "    </tr>\n",
       "    <tr>\n",
       "      <th>freq</th>\n",
       "      <td>2</td>\n",
       "      <td>1</td>\n",
       "      <td>4</td>\n",
       "      <td>2</td>\n",
       "    </tr>\n",
       "  </tbody>\n",
       "</table>\n",
       "</div>"
      ],
      "text/plain": [
       "                       TEAM     NATIONALITY         TYPE    PRICE PAID\n",
       "count                    10              10           10            10\n",
       "unique                    7              10            3             9\n",
       "top     Chennai Super Kings  Mitchell Starc  All-Rounder   7,40,00,000\n",
       "freq                      2               1            4             2"
      ]
     },
     "execution_count": 22,
     "metadata": {},
     "output_type": "execute_result"
    }
   ],
   "source": [
    "top_buys_df.describe()"
   ]
  },
  {
   "cell_type": "code",
   "execution_count": 23,
   "id": "21b0c7f9-be85-4c06-becd-9255740ae0e0",
   "metadata": {},
   "outputs": [
    {
     "data": {
      "text/plain": [
       "TEAM           object\n",
       "NATIONALITY    object\n",
       "TYPE           object\n",
       "PRICE PAID     object\n",
       "dtype: object"
      ]
     },
     "execution_count": 23,
     "metadata": {},
     "output_type": "execute_result"
    }
   ],
   "source": [
    "top_buys_df.dtypes"
   ]
  },
  {
   "cell_type": "code",
   "execution_count": 24,
   "id": "06792fb0-e920-425e-97fa-8639015b027e",
   "metadata": {},
   "outputs": [
    {
     "data": {
      "text/plain": [
       "object    4\n",
       "Name: count, dtype: int64"
      ]
     },
     "execution_count": 24,
     "metadata": {},
     "output_type": "execute_result"
    }
   ],
   "source": [
    "top_buys_df.dtypes.value_counts()"
   ]
  },
  {
   "cell_type": "markdown",
   "id": "cac5f425-8c32-49f2-a92e-2afa6305e445",
   "metadata": {},
   "source": [
    "### Indexing, Selection and Slicing"
   ]
  },
  {
   "cell_type": "code",
   "execution_count": 25,
   "id": "ec76ed0e-45ba-4095-9f42-f76c875d6d57",
   "metadata": {},
   "outputs": [
    {
     "data": {
      "text/html": [
       "<div>\n",
       "<style scoped>\n",
       "    .dataframe tbody tr th:only-of-type {\n",
       "        vertical-align: middle;\n",
       "    }\n",
       "\n",
       "    .dataframe tbody tr th {\n",
       "        vertical-align: top;\n",
       "    }\n",
       "\n",
       "    .dataframe thead th {\n",
       "        text-align: right;\n",
       "    }\n",
       "</style>\n",
       "<table border=\"1\" class=\"dataframe\">\n",
       "  <thead>\n",
       "    <tr style=\"text-align: right;\">\n",
       "      <th></th>\n",
       "      <th>TEAM</th>\n",
       "      <th>NATIONALITY</th>\n",
       "      <th>TYPE</th>\n",
       "      <th>PRICE PAID</th>\n",
       "    </tr>\n",
       "  </thead>\n",
       "  <tbody>\n",
       "    <tr>\n",
       "      <th>0</th>\n",
       "      <td>Kolkata Knight Riders</td>\n",
       "      <td>Mitchell Starc</td>\n",
       "      <td>Bowler</td>\n",
       "      <td>24,75,00,000</td>\n",
       "    </tr>\n",
       "    <tr>\n",
       "      <th>1</th>\n",
       "      <td>Sunrisers Hyderabad</td>\n",
       "      <td>Pat Cummins</td>\n",
       "      <td>All-Rounder</td>\n",
       "      <td>20,50,00,000</td>\n",
       "    </tr>\n",
       "    <tr>\n",
       "      <th>2</th>\n",
       "      <td>Chennai Super Kings</td>\n",
       "      <td>Daryl Mitchell</td>\n",
       "      <td>All-Rounder</td>\n",
       "      <td>14,00,00,000</td>\n",
       "    </tr>\n",
       "    <tr>\n",
       "      <th>3</th>\n",
       "      <td>Punjab Kings</td>\n",
       "      <td>Harshal Patel</td>\n",
       "      <td>All-Rounder</td>\n",
       "      <td>11,75,00,000</td>\n",
       "    </tr>\n",
       "    <tr>\n",
       "      <th>4</th>\n",
       "      <td>Royal Challengers Bangalore</td>\n",
       "      <td>Alzarri Joseph</td>\n",
       "      <td>Bowler</td>\n",
       "      <td>11,50,00,000</td>\n",
       "    </tr>\n",
       "  </tbody>\n",
       "</table>\n",
       "</div>"
      ],
      "text/plain": [
       "                          TEAM     NATIONALITY         TYPE     PRICE PAID\n",
       "0        Kolkata Knight Riders  Mitchell Starc       Bowler   24,75,00,000\n",
       "1          Sunrisers Hyderabad     Pat Cummins  All-Rounder   20,50,00,000\n",
       "2          Chennai Super Kings  Daryl Mitchell  All-Rounder   14,00,00,000\n",
       "3                 Punjab Kings   Harshal Patel  All-Rounder   11,75,00,000\n",
       "4  Royal Challengers Bangalore  Alzarri Joseph       Bowler   11,50,00,000"
      ]
     },
     "execution_count": 25,
     "metadata": {},
     "output_type": "execute_result"
    }
   ],
   "source": [
    "top_buys_df.iloc[0:5]"
   ]
  },
  {
   "cell_type": "code",
   "execution_count": 26,
   "id": "e6f136f7-26dc-4df2-843b-19fb84e0f11e",
   "metadata": {},
   "outputs": [
    {
     "data": {
      "text/plain": [
       "TEAM           Kolkata Knight Riders\n",
       "NATIONALITY           Mitchell Starc\n",
       "TYPE                          Bowler\n",
       "PRICE PAID              24,75,00,000\n",
       "Name: 0, dtype: object"
      ]
     },
     "execution_count": 26,
     "metadata": {},
     "output_type": "execute_result"
    }
   ],
   "source": [
    "top_buys_df.iloc[0]"
   ]
  },
  {
   "cell_type": "code",
   "execution_count": 27,
   "id": "6c77c5f4-21a4-413d-bab2-60cf3a88f882",
   "metadata": {},
   "outputs": [
    {
     "data": {
      "text/html": [
       "<div>\n",
       "<style scoped>\n",
       "    .dataframe tbody tr th:only-of-type {\n",
       "        vertical-align: middle;\n",
       "    }\n",
       "\n",
       "    .dataframe tbody tr th {\n",
       "        vertical-align: top;\n",
       "    }\n",
       "\n",
       "    .dataframe thead th {\n",
       "        text-align: right;\n",
       "    }\n",
       "</style>\n",
       "<table border=\"1\" class=\"dataframe\">\n",
       "  <thead>\n",
       "    <tr style=\"text-align: right;\">\n",
       "      <th></th>\n",
       "      <th>TEAM</th>\n",
       "      <th>NATIONALITY</th>\n",
       "      <th>TYPE</th>\n",
       "      <th>PRICE PAID</th>\n",
       "    </tr>\n",
       "  </thead>\n",
       "  <tbody>\n",
       "    <tr>\n",
       "      <th>2</th>\n",
       "      <td>Chennai Super Kings</td>\n",
       "      <td>Daryl Mitchell</td>\n",
       "      <td>All-Rounder</td>\n",
       "      <td>14,00,00,000</td>\n",
       "    </tr>\n",
       "    <tr>\n",
       "      <th>6</th>\n",
       "      <td>Chennai Super Kings</td>\n",
       "      <td>Sameer Rizvi</td>\n",
       "      <td>Batter</td>\n",
       "      <td>8,40,00,000</td>\n",
       "    </tr>\n",
       "  </tbody>\n",
       "</table>\n",
       "</div>"
      ],
      "text/plain": [
       "                  TEAM     NATIONALITY         TYPE     PRICE PAID\n",
       "2  Chennai Super Kings  Daryl Mitchell  All-Rounder   14,00,00,000\n",
       "6  Chennai Super Kings    Sameer Rizvi       Batter    8,40,00,000"
      ]
     },
     "execution_count": 27,
     "metadata": {},
     "output_type": "execute_result"
    }
   ],
   "source": [
    "top_buys_df.loc[top_buys_df['TEAM'] == 'Chennai Super Kings']"
   ]
  },
  {
   "cell_type": "markdown",
   "id": "24beee6d-3d73-413a-b3d7-8ae2e2f8cddb",
   "metadata": {},
   "source": [
    "### Renaming specific values within a column in a Pandas DataFrame"
   ]
  },
  {
   "cell_type": "code",
   "execution_count": 28,
   "id": "cc883952-ff6c-4169-a25f-b1890f6ea867",
   "metadata": {},
   "outputs": [],
   "source": [
    "top_buys_df['TEAM'] = top_buys_df['TEAM'].replace(\n",
    "    {'Chennai Super Kings': 'CSK', \n",
    "     'Punjab Kings' : 'PBKS',\n",
    "     'Kolkata Knight Riders' : 'KKR',\n",
    "     'Sunrisers Hyderabad': 'SRH',\n",
    "     'Gujarat Titans': 'GT',\n",
    "     'Royal Challengers Bangalore' : 'RCB',\n",
    "     'Rajasthan Royals': 'RR',\n",
    "     })"
   ]
  },
  {
   "cell_type": "code",
   "execution_count": 29,
   "id": "1ddbe5a2-f657-4d4b-978e-576fe0b6d5e6",
   "metadata": {},
   "outputs": [
    {
     "data": {
      "text/html": [
       "<div>\n",
       "<style scoped>\n",
       "    .dataframe tbody tr th:only-of-type {\n",
       "        vertical-align: middle;\n",
       "    }\n",
       "\n",
       "    .dataframe tbody tr th {\n",
       "        vertical-align: top;\n",
       "    }\n",
       "\n",
       "    .dataframe thead th {\n",
       "        text-align: right;\n",
       "    }\n",
       "</style>\n",
       "<table border=\"1\" class=\"dataframe\">\n",
       "  <thead>\n",
       "    <tr style=\"text-align: right;\">\n",
       "      <th></th>\n",
       "      <th>TEAM</th>\n",
       "      <th>NATIONALITY</th>\n",
       "      <th>TYPE</th>\n",
       "      <th>PRICE PAID</th>\n",
       "    </tr>\n",
       "  </thead>\n",
       "  <tbody>\n",
       "    <tr>\n",
       "      <th>0</th>\n",
       "      <td>KKR</td>\n",
       "      <td>Mitchell Starc</td>\n",
       "      <td>Bowler</td>\n",
       "      <td>24,75,00,000</td>\n",
       "    </tr>\n",
       "    <tr>\n",
       "      <th>1</th>\n",
       "      <td>SRH</td>\n",
       "      <td>Pat Cummins</td>\n",
       "      <td>All-Rounder</td>\n",
       "      <td>20,50,00,000</td>\n",
       "    </tr>\n",
       "    <tr>\n",
       "      <th>2</th>\n",
       "      <td>CSK</td>\n",
       "      <td>Daryl Mitchell</td>\n",
       "      <td>All-Rounder</td>\n",
       "      <td>14,00,00,000</td>\n",
       "    </tr>\n",
       "    <tr>\n",
       "      <th>3</th>\n",
       "      <td>PBKS</td>\n",
       "      <td>Harshal Patel</td>\n",
       "      <td>All-Rounder</td>\n",
       "      <td>11,75,00,000</td>\n",
       "    </tr>\n",
       "    <tr>\n",
       "      <th>4</th>\n",
       "      <td>RCB</td>\n",
       "      <td>Alzarri Joseph</td>\n",
       "      <td>Bowler</td>\n",
       "      <td>11,50,00,000</td>\n",
       "    </tr>\n",
       "    <tr>\n",
       "      <th>5</th>\n",
       "      <td>GT</td>\n",
       "      <td>Spencer Johnson</td>\n",
       "      <td>Bowler</td>\n",
       "      <td>10,00,00,000</td>\n",
       "    </tr>\n",
       "    <tr>\n",
       "      <th>6</th>\n",
       "      <td>CSK</td>\n",
       "      <td>Sameer Rizvi</td>\n",
       "      <td>Batter</td>\n",
       "      <td>8,40,00,000</td>\n",
       "    </tr>\n",
       "    <tr>\n",
       "      <th>7</th>\n",
       "      <td>PBKS</td>\n",
       "      <td>Rilee Rossouw</td>\n",
       "      <td>Batter</td>\n",
       "      <td>8,00,00,000</td>\n",
       "    </tr>\n",
       "    <tr>\n",
       "      <th>8</th>\n",
       "      <td>GT</td>\n",
       "      <td>Shahrukh Khan</td>\n",
       "      <td>All-Rounder</td>\n",
       "      <td>7,40,00,000</td>\n",
       "    </tr>\n",
       "    <tr>\n",
       "      <th>9</th>\n",
       "      <td>RR</td>\n",
       "      <td>Rovman Powell</td>\n",
       "      <td>Batter</td>\n",
       "      <td>7,40,00,000</td>\n",
       "    </tr>\n",
       "  </tbody>\n",
       "</table>\n",
       "</div>"
      ],
      "text/plain": [
       "   TEAM      NATIONALITY         TYPE     PRICE PAID\n",
       "0   KKR   Mitchell Starc       Bowler   24,75,00,000\n",
       "1   SRH      Pat Cummins  All-Rounder   20,50,00,000\n",
       "2   CSK   Daryl Mitchell  All-Rounder   14,00,00,000\n",
       "3  PBKS    Harshal Patel  All-Rounder   11,75,00,000\n",
       "4   RCB   Alzarri Joseph       Bowler   11,50,00,000\n",
       "5    GT  Spencer Johnson       Bowler   10,00,00,000\n",
       "6   CSK     Sameer Rizvi       Batter    8,40,00,000\n",
       "7  PBKS    Rilee Rossouw       Batter    8,00,00,000\n",
       "8    GT    Shahrukh Khan  All-Rounder    7,40,00,000\n",
       "9    RR    Rovman Powell       Batter    7,40,00,000"
      ]
     },
     "execution_count": 29,
     "metadata": {},
     "output_type": "execute_result"
    }
   ],
   "source": [
    "top_buys_df"
   ]
  },
  {
   "cell_type": "code",
   "execution_count": 30,
   "id": "fa7734b4-a6f6-4e4a-b9f6-e50e303d4d0f",
   "metadata": {
    "scrolled": true
   },
   "outputs": [
    {
     "data": {
      "text/plain": [
       "0     24,75,00,000\n",
       "1     20,50,00,000\n",
       "2     14,00,00,000\n",
       "3     11,75,00,000\n",
       "4     11,50,00,000\n",
       "5     10,00,00,000\n",
       "6      8,40,00,000\n",
       "7      8,00,00,000\n",
       "8      7,40,00,000\n",
       "9      7,40,00,000\n",
       "Name: PRICE PAID, dtype: object"
      ]
     },
     "execution_count": 30,
     "metadata": {},
     "output_type": "execute_result"
    }
   ],
   "source": [
    "top_buys_df['PRICE PAID']"
   ]
  },
  {
   "cell_type": "markdown",
   "id": "7de7c06a-9d30-4d53-b848-fa6fcc727941",
   "metadata": {},
   "source": [
    "### Converting datatype of 'PRICE PAID' Column from \"object\" to integer\""
   ]
  },
  {
   "cell_type": "code",
   "execution_count": 31,
   "id": "d4c13a8e-d62b-423d-ad0d-7beb4f55ce4f",
   "metadata": {},
   "outputs": [],
   "source": [
    "\n",
    "top_buys_df['PRICE PAID'] = pd.to_numeric(top_buys_df['PRICE PAID'].str.replace(',', ''))"
   ]
  },
  {
   "cell_type": "code",
   "execution_count": 32,
   "id": "568c81d9-4e60-4b5f-9a48-0a59a47d03d8",
   "metadata": {},
   "outputs": [
    {
     "data": {
      "text/plain": [
       "205000000"
      ]
     },
     "execution_count": 32,
     "metadata": {},
     "output_type": "execute_result"
    }
   ],
   "source": [
    "top_buys_df['PRICE PAID'].iloc[1]"
   ]
  },
  {
   "cell_type": "code",
   "execution_count": 33,
   "id": "451e5a91-38e7-402e-8a8d-2df13a146f4d",
   "metadata": {},
   "outputs": [
    {
     "data": {
      "text/plain": [
       "TEAM           object\n",
       "NATIONALITY    object\n",
       "TYPE           object\n",
       "PRICE PAID      int64\n",
       "dtype: object"
      ]
     },
     "execution_count": 33,
     "metadata": {},
     "output_type": "execute_result"
    }
   ],
   "source": [
    "top_buys_df.dtypes"
   ]
  },
  {
   "cell_type": "markdown",
   "id": "ab70577b-ccb7-4436-bc0a-7365814559fa",
   "metadata": {},
   "source": [
    "### Ploting the Percentage of Team bought players"
   ]
  },
  {
   "cell_type": "code",
   "execution_count": 34,
   "id": "74bd1aa7-3a58-4763-800a-d19191996342",
   "metadata": {},
   "outputs": [
    {
     "data": {
      "text/plain": [
       "<Axes: xlabel='TEAM', ylabel='PERCENTAGE'>"
      ]
     },
     "execution_count": 34,
     "metadata": {},
     "output_type": "execute_result"
    },
    {
     "data": {
      "image/png": "[encoded data removed]",
      "text/plain": [
       "<Figure size 1200x600 with 1 Axes>"
      ]
     },
     "metadata": {},
     "output_type": "display_data"
    }
   ],
   "source": [
    "top_buys_df['PERCENTAGE'] = (top_buys_df['PRICE PAID']/ top_buys_df['PRICE PAID'].sum()) * 100\n",
    "top_buys_df.plot(x='TEAM', y='PERCENTAGE', kind='scatter', figsize=(12,6))"
   ]
  },
  {
   "cell_type": "code",
   "execution_count": 35,
   "id": "9ce2b263-74f4-47b8-8469-e04711e9666f",
   "metadata": {},
   "outputs": [
    {
     "data": {
      "text/html": [
       "<div>\n",
       "<style scoped>\n",
       "    .dataframe tbody tr th:only-of-type {\n",
       "        vertical-align: middle;\n",
       "    }\n",
       "\n",
       "    .dataframe tbody tr th {\n",
       "        vertical-align: top;\n",
       "    }\n",
       "\n",
       "    .dataframe thead th {\n",
       "        text-align: right;\n",
       "    }\n",
       "</style>\n",
       "<table border=\"1\" class=\"dataframe\">\n",
       "  <thead>\n",
       "    <tr style=\"text-align: right;\">\n",
       "      <th></th>\n",
       "      <th>TEAM</th>\n",
       "      <th>NATIONALITY</th>\n",
       "      <th>TYPE</th>\n",
       "      <th>PRICE PAID</th>\n",
       "      <th>PERCENTAGE</th>\n",
       "    </tr>\n",
       "  </thead>\n",
       "  <tbody>\n",
       "    <tr>\n",
       "      <th>0</th>\n",
       "      <td>KKR</td>\n",
       "      <td>Mitchell Starc</td>\n",
       "      <td>Bowler</td>\n",
       "      <td>247500000</td>\n",
       "      <td>20.008084</td>\n",
       "    </tr>\n",
       "    <tr>\n",
       "      <th>1</th>\n",
       "      <td>SRH</td>\n",
       "      <td>Pat Cummins</td>\n",
       "      <td>All-Rounder</td>\n",
       "      <td>205000000</td>\n",
       "      <td>16.572352</td>\n",
       "    </tr>\n",
       "    <tr>\n",
       "      <th>2</th>\n",
       "      <td>CSK</td>\n",
       "      <td>Daryl Mitchell</td>\n",
       "      <td>All-Rounder</td>\n",
       "      <td>140000000</td>\n",
       "      <td>11.317704</td>\n",
       "    </tr>\n",
       "    <tr>\n",
       "      <th>3</th>\n",
       "      <td>PBKS</td>\n",
       "      <td>Harshal Patel</td>\n",
       "      <td>All-Rounder</td>\n",
       "      <td>117500000</td>\n",
       "      <td>9.498787</td>\n",
       "    </tr>\n",
       "    <tr>\n",
       "      <th>4</th>\n",
       "      <td>RCB</td>\n",
       "      <td>Alzarri Joseph</td>\n",
       "      <td>Bowler</td>\n",
       "      <td>115000000</td>\n",
       "      <td>9.296686</td>\n",
       "    </tr>\n",
       "    <tr>\n",
       "      <th>5</th>\n",
       "      <td>GT</td>\n",
       "      <td>Spencer Johnson</td>\n",
       "      <td>Bowler</td>\n",
       "      <td>100000000</td>\n",
       "      <td>8.084074</td>\n",
       "    </tr>\n",
       "    <tr>\n",
       "      <th>6</th>\n",
       "      <td>CSK</td>\n",
       "      <td>Sameer Rizvi</td>\n",
       "      <td>Batter</td>\n",
       "      <td>84000000</td>\n",
       "      <td>6.790622</td>\n",
       "    </tr>\n",
       "    <tr>\n",
       "      <th>7</th>\n",
       "      <td>PBKS</td>\n",
       "      <td>Rilee Rossouw</td>\n",
       "      <td>Batter</td>\n",
       "      <td>80000000</td>\n",
       "      <td>6.467259</td>\n",
       "    </tr>\n",
       "    <tr>\n",
       "      <th>8</th>\n",
       "      <td>GT</td>\n",
       "      <td>Shahrukh Khan</td>\n",
       "      <td>All-Rounder</td>\n",
       "      <td>74000000</td>\n",
       "      <td>5.982215</td>\n",
       "    </tr>\n",
       "    <tr>\n",
       "      <th>9</th>\n",
       "      <td>RR</td>\n",
       "      <td>Rovman Powell</td>\n",
       "      <td>Batter</td>\n",
       "      <td>74000000</td>\n",
       "      <td>5.982215</td>\n",
       "    </tr>\n",
       "  </tbody>\n",
       "</table>\n",
       "</div>"
      ],
      "text/plain": [
       "   TEAM      NATIONALITY         TYPE  PRICE PAID  PERCENTAGE\n",
       "0   KKR   Mitchell Starc       Bowler   247500000   20.008084\n",
       "1   SRH      Pat Cummins  All-Rounder   205000000   16.572352\n",
       "2   CSK   Daryl Mitchell  All-Rounder   140000000   11.317704\n",
       "3  PBKS    Harshal Patel  All-Rounder   117500000    9.498787\n",
       "4   RCB   Alzarri Joseph       Bowler   115000000    9.296686\n",
       "5    GT  Spencer Johnson       Bowler   100000000    8.084074\n",
       "6   CSK     Sameer Rizvi       Batter    84000000    6.790622\n",
       "7  PBKS    Rilee Rossouw       Batter    80000000    6.467259\n",
       "8    GT    Shahrukh Khan  All-Rounder    74000000    5.982215\n",
       "9    RR    Rovman Powell       Batter    74000000    5.982215"
      ]
     },
     "execution_count": 35,
     "metadata": {},
     "output_type": "execute_result"
    }
   ],
   "source": [
    "top_buys_df"
   ]
  },
  {
   "cell_type": "code",
   "execution_count": 36,
   "id": "d0d2e3a0-caee-487d-9b77-8d1ddb5ef625",
   "metadata": {},
   "outputs": [
    {
     "data": {
      "text/plain": [
       "100.0"
      ]
     },
     "execution_count": 36,
     "metadata": {},
     "output_type": "execute_result"
    }
   ],
   "source": [
    "top_buys_df['PERCENTAGE'].sum()"
   ]
  },
  {
   "cell_type": "code",
   "execution_count": 37,
   "id": "c92bd9ac-77cd-496b-8ce1-842f2fa5ff41",
   "metadata": {},
   "outputs": [
    {
     "data": {
      "text/plain": [
       "247500000"
      ]
     },
     "execution_count": 37,
     "metadata": {},
     "output_type": "execute_result"
    }
   ],
   "source": [
    "top_buys_df['PRICE PAID'][0]"
   ]
  },
  {
   "cell_type": "code",
   "execution_count": 38,
   "id": "65e406b9-4f3a-4558-ac6b-5b4fc99de63b",
   "metadata": {},
   "outputs": [
    {
     "data": {
      "text/html": [
       "<div>\n",
       "<style scoped>\n",
       "    .dataframe tbody tr th:only-of-type {\n",
       "        vertical-align: middle;\n",
       "    }\n",
       "\n",
       "    .dataframe tbody tr th {\n",
       "        vertical-align: top;\n",
       "    }\n",
       "\n",
       "    .dataframe thead th {\n",
       "        text-align: right;\n",
       "    }\n",
       "</style>\n",
       "<table border=\"1\" class=\"dataframe\">\n",
       "  <thead>\n",
       "    <tr style=\"text-align: right;\">\n",
       "      <th></th>\n",
       "      <th>TEAM</th>\n",
       "      <th>NATIONALITY</th>\n",
       "      <th>TYPE</th>\n",
       "      <th>PRICE PAID</th>\n",
       "      <th>PERCENTAGE</th>\n",
       "    </tr>\n",
       "  </thead>\n",
       "  <tbody>\n",
       "    <tr>\n",
       "      <th>0</th>\n",
       "      <td>KKR</td>\n",
       "      <td>Mitchell Starc</td>\n",
       "      <td>Bowler</td>\n",
       "      <td>247500000</td>\n",
       "      <td>20.008084</td>\n",
       "    </tr>\n",
       "    <tr>\n",
       "      <th>1</th>\n",
       "      <td>SRH</td>\n",
       "      <td>Pat Cummins</td>\n",
       "      <td>All-Rounder</td>\n",
       "      <td>205000000</td>\n",
       "      <td>16.572352</td>\n",
       "    </tr>\n",
       "    <tr>\n",
       "      <th>2</th>\n",
       "      <td>CSK</td>\n",
       "      <td>Daryl Mitchell</td>\n",
       "      <td>All-Rounder</td>\n",
       "      <td>140000000</td>\n",
       "      <td>11.317704</td>\n",
       "    </tr>\n",
       "    <tr>\n",
       "      <th>3</th>\n",
       "      <td>PBKS</td>\n",
       "      <td>Harshal Patel</td>\n",
       "      <td>All-Rounder</td>\n",
       "      <td>117500000</td>\n",
       "      <td>9.498787</td>\n",
       "    </tr>\n",
       "    <tr>\n",
       "      <th>4</th>\n",
       "      <td>RCB</td>\n",
       "      <td>Alzarri Joseph</td>\n",
       "      <td>Bowler</td>\n",
       "      <td>115000000</td>\n",
       "      <td>9.296686</td>\n",
       "    </tr>\n",
       "    <tr>\n",
       "      <th>5</th>\n",
       "      <td>GT</td>\n",
       "      <td>Spencer Johnson</td>\n",
       "      <td>Bowler</td>\n",
       "      <td>100000000</td>\n",
       "      <td>8.084074</td>\n",
       "    </tr>\n",
       "    <tr>\n",
       "      <th>6</th>\n",
       "      <td>CSK</td>\n",
       "      <td>Sameer Rizvi</td>\n",
       "      <td>Batter</td>\n",
       "      <td>84000000</td>\n",
       "      <td>6.790622</td>\n",
       "    </tr>\n",
       "    <tr>\n",
       "      <th>7</th>\n",
       "      <td>PBKS</td>\n",
       "      <td>Rilee Rossouw</td>\n",
       "      <td>Batter</td>\n",
       "      <td>80000000</td>\n",
       "      <td>6.467259</td>\n",
       "    </tr>\n",
       "    <tr>\n",
       "      <th>8</th>\n",
       "      <td>GT</td>\n",
       "      <td>Shahrukh Khan</td>\n",
       "      <td>All-Rounder</td>\n",
       "      <td>74000000</td>\n",
       "      <td>5.982215</td>\n",
       "    </tr>\n",
       "    <tr>\n",
       "      <th>9</th>\n",
       "      <td>RR</td>\n",
       "      <td>Rovman Powell</td>\n",
       "      <td>Batter</td>\n",
       "      <td>74000000</td>\n",
       "      <td>5.982215</td>\n",
       "    </tr>\n",
       "  </tbody>\n",
       "</table>\n",
       "</div>"
      ],
      "text/plain": [
       "   TEAM      NATIONALITY         TYPE  PRICE PAID  PERCENTAGE\n",
       "0   KKR   Mitchell Starc       Bowler   247500000   20.008084\n",
       "1   SRH      Pat Cummins  All-Rounder   205000000   16.572352\n",
       "2   CSK   Daryl Mitchell  All-Rounder   140000000   11.317704\n",
       "3  PBKS    Harshal Patel  All-Rounder   117500000    9.498787\n",
       "4   RCB   Alzarri Joseph       Bowler   115000000    9.296686\n",
       "5    GT  Spencer Johnson       Bowler   100000000    8.084074\n",
       "6   CSK     Sameer Rizvi       Batter    84000000    6.790622\n",
       "7  PBKS    Rilee Rossouw       Batter    80000000    6.467259\n",
       "8    GT    Shahrukh Khan  All-Rounder    74000000    5.982215\n",
       "9    RR    Rovman Powell       Batter    74000000    5.982215"
      ]
     },
     "execution_count": 38,
     "metadata": {},
     "output_type": "execute_result"
    }
   ],
   "source": [
    "top_buys_df"
   ]
  },
  {
   "cell_type": "code",
   "execution_count": 39,
   "id": "66f2b110-ddcc-4c8e-99af-15404765a14f",
   "metadata": {},
   "outputs": [
    {
     "data": {
      "text/plain": [
       "count    1.000000e+01\n",
       "mean     1.237000e+08\n",
       "std      5.897608e+07\n",
       "min      7.400000e+07\n",
       "25%      8.100000e+07\n",
       "50%      1.075000e+08\n",
       "75%      1.343750e+08\n",
       "max      2.475000e+08\n",
       "Name: PRICE PAID, dtype: float64"
      ]
     },
     "execution_count": 39,
     "metadata": {},
     "output_type": "execute_result"
    }
   ],
   "source": [
    "top_buys_df['PRICE PAID'].describe()"
   ]
  },
  {
   "cell_type": "code",
   "execution_count": 40,
   "id": "00496c46-dcac-482e-a6e8-5ed1b95f02e7",
   "metadata": {},
   "outputs": [],
   "source": [
    "Per_of_Team = top_buys_df['TEAM'].value_counts() "
   ]
  },
  {
   "cell_type": "code",
   "execution_count": 63,
   "id": "0fc5fe66-0aed-4f40-8408-e205e35f3d1b",
   "metadata": {},
   "outputs": [],
   "source": [
    "Per_of_Team = top_buys_df.groupby('TEAM')['PRICE PAID'].sum()\n",
    "Per_of_Team = (top_buys_df['PRICE PAID'] / top_buys_df['PRICE PAID'].sum()) * 100"
   ]
  },
  {
   "cell_type": "code",
   "execution_count": 64,
   "id": "c2b4c504-1d9a-4bab-9cf9-fd221035f1dd",
   "metadata": {},
   "outputs": [
    {
     "data": {
      "text/plain": [
       "TEAM\n",
       "KKR     20.008084\n",
       "SRH     16.572352\n",
       "CSK     11.317704\n",
       "PBKS     9.498787\n",
       "RCB      9.296686\n",
       "GT       8.084074\n",
       "CSK      6.790622\n",
       "PBKS     6.467259\n",
       "GT       5.982215\n",
       "RR       5.982215\n",
       "Name: PRICE PAID, dtype: float64"
      ]
     },
     "execution_count": 64,
     "metadata": {},
     "output_type": "execute_result"
    }
   ],
   "source": [
    "Per_of_Team"
   ]
  },
  {
   "cell_type": "code",
   "execution_count": 67,
   "id": "37e7bacb-d75b-4f42-ac32-9ce6eb199e17",
   "metadata": {},
   "outputs": [],
   "source": [
    "per_of_team = (top_buys_df.groupby('TEAM')['PRICE PAID'].sum()) * 100"
   ]
  },
  {
   "cell_type": "code",
   "execution_count": 68,
   "id": "6bc18e9b-c3fb-4239-9401-d286a9c3289a",
   "metadata": {},
   "outputs": [
    {
     "data": {
      "text/plain": [
       "TEAM\n",
       "CSK     22400000000\n",
       "GT      17400000000\n",
       "KKR     24750000000\n",
       "PBKS    19750000000\n",
       "RCB     11500000000\n",
       "RR       7400000000\n",
       "SRH     20500000000\n",
       "Name: PRICE PAID, dtype: int64"
      ]
     },
     "execution_count": 68,
     "metadata": {},
     "output_type": "execute_result"
    }
   ],
   "source": [
    "per_of_team"
   ]
  },
  {
   "cell_type": "code",
   "execution_count": 69,
   "id": "8ac87dee-b372-40a5-93e4-4a9d258aba3f",
   "metadata": {},
   "outputs": [
    {
     "data": {
      "text/plain": [
       "TEAM\n",
       "CSK     18.108327\n",
       "GT      14.066289\n",
       "KKR     20.008084\n",
       "PBKS    15.966047\n",
       "RCB      9.296686\n",
       "RR       5.982215\n",
       "SRH     16.572352\n",
       "Name: PRICE PAID, dtype: float64"
      ]
     },
     "execution_count": 69,
     "metadata": {},
     "output_type": "execute_result"
    }
   ],
   "source": [
    "per_of_team = (per_of_team / per_of_team.sum()) * 100\n",
    "per_of_team"
   ]
  },
  {
   "cell_type": "code",
   "execution_count": 70,
   "id": "afecda8b-23c7-43db-8583-74c1f500e1bf",
   "metadata": {},
   "outputs": [
    {
     "data": {
      "text/plain": [
       "100.0"
      ]
     },
     "execution_count": 70,
     "metadata": {},
     "output_type": "execute_result"
    }
   ],
   "source": [
    "per_of_team.sum()"
   ]
  },
  {
   "cell_type": "code",
   "execution_count": 71,
   "id": "f4367869-a38b-47d3-996e-51fe88098853",
   "metadata": {},
   "outputs": [
    {
     "data": {
      "text/plain": [
       "dtype('float64')"
      ]
     },
     "execution_count": 71,
     "metadata": {},
     "output_type": "execute_result"
    }
   ],
   "source": [
    "per_of_team.dtypes"
   ]
  },
  {
   "cell_type": "markdown",
   "id": "307dfaaa-2243-43e7-93e3-bebfcda52332",
   "metadata": {},
   "source": [
    "### Ploting the Total Percentage of amount spend by each team"
   ]
  },
  {
   "cell_type": "code",
   "execution_count": 72,
   "id": "5a6fb519-f296-4368-9ff3-625010a11f43",
   "metadata": {},
   "outputs": [
    {
     "data": {
      "image/png": "[encoded data removed]",
      "text/plain": [
       "<Figure size 1200x600 with 1 Axes>"
      ]
     },
     "metadata": {},
     "output_type": "display_data"
    }
   ],
   "source": [
    "per_of_team.plot(kind='line', figsize=(12,6), color='red')\n",
    "plt.xlabel('Percentage of Total Price Paid (%)')\n",
    "plt.ylabel('Percentage')\n",
    "plt.title('Percentage Contribution of Each Transaction to Total Spending by Team')\n",
    "plt.yticks()\n",
    "plt.legend('PERCENTAGE')\n",
    "plt.xticks(rotation=60)\n",
    "plt.tight_layout()"
   ]
  },
  {
   "cell_type": "code",
   "execution_count": null,
   "id": "f60ad967-8e95-47fc-80ff-b74db9356f39",
   "metadata": {},
   "outputs": [],
   "source": []
  }
 ],
 "metadata": {
  "kernelspec": {
   "display_name": "Python 3 (ipykernel)",
   "language": "python",
   "name": "python3"
  },
  "language_info": {
   "codemirror_mode": {
    "name": "ipython",
    "version": 3
   },
   "file_extension": ".py",
   "mimetype": "text/x-python",
   "name": "python",
   "nbconvert_exporter": "python",
   "pygments_lexer": "ipython3",
   "version": "3.12.0"
  }
 },
 "nbformat": 4,
 "nbformat_minor": 5
}
